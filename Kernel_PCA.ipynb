{
 "cells": [
  {
   "cell_type": "code",
   "execution_count": 22,
   "id": "e9889479-5389-4a69-b346-bc85f22ae95a",
   "metadata": {},
   "outputs": [],
   "source": [
    "#import the libraries needed\n",
    "import numpy as np\n",
    "import matplotlib.pyplot as plt\n",
    "import pandas as pd"
   ]
  },
  {
   "cell_type": "code",
   "execution_count": 34,
   "id": "2361c042-171d-41b8-b11b-d214f336d9fe",
   "metadata": {},
   "outputs": [],
   "source": [
    "#Spliting & Standardization\n",
    "def split_scalar(indep_X, dep_Y):\n",
    "    from sklearn.model_selection import train_test_split\n",
    "    X_train, X_test, y_train, y_test = train_test_split(indep_X, dep_Y, test_size = 0.25, random_state = 0)\n",
    "    from sklearn.preprocessing import StandardScaler\n",
    "    sc = StandardScaler()\n",
    "    X_train = sc.fit_transform(X_train)\n",
    "    X_test = sc.transform(X_test)\n",
    "    return X_train, X_test, y_train, y_test\n",
    "    \n",
    "#function definition to compute LDA  \n",
    "def kernel_PCA(indep_X, n):\n",
    "    from sklearn.decomposition import KernelPCA\n",
    "    kpca = KernelPCA(n_components = n, kernel = 'rbf')\n",
    "    X_train = kpca.fit_transform(indep_X)\n",
    "    return kpca,X_train\n",
    "        \n",
    "#Function definition to perform Logistic Regression model creation  \n",
    "def logistic(X_train, y_train, X_test):\n",
    "    from sklearn.linear_model import LogisticRegression\n",
    "    classifier = LogisticRegression(random_state = 0)\n",
    "    classifier.fit(X_train, y_train)\n",
    "    classifier, Accuracy, report, cm = cm_prediction(classifier, X_test)\n",
    "    return classifier, Accuracy, report, cm\n",
    "\n",
    "#Function definition to perform SVM LInear model creation  \n",
    "def svm_linear(X_train, y_train, X_test):\n",
    "    from sklearn.svm import SVC\n",
    "    classifier = SVC(kernel='linear', random_state=0)\n",
    "    classifier.fit(X_train, y_train)\n",
    "    classifier, Accuracy, report, cm = cm_prediction(classifier, X_test)\n",
    "    return classifier, Accuracy, report, cm\n",
    "\n",
    "#SVM Non Linear function\n",
    "def svm_NL(X_train, y_train, X_test):\n",
    "    from sklearn.svm import SVC\n",
    "    classifier = SVC(kernel='rbf', random_state=0)\n",
    "    classifier.fit(X_train, y_train)\n",
    "    classifier, Accuracy, report, cm = cm_prediction(classifier, X_test)\n",
    "    return classifier, Accuracy, report, cm\n",
    "\n",
    "#Navie Bayes Function\n",
    "def Navie(X_train, y_train, X_test):\n",
    "    from sklearn.naive_bayes import GaussianNB\n",
    "    classifier = GaussianNB()\n",
    "    classifier.fit(X_train, y_train)\n",
    "    classifier, Accuracy, report, cm = cm_prediction(classifier, X_test)\n",
    "    return classifier, Accuracy, report, cm\n",
    "\n",
    "#K Nearest Neighbor Function\n",
    "def knn(X_train, y_train, X_test):\n",
    "    from sklearn.neighbors import KNeighborsClassifier\n",
    "    classifier = KNeighborsClassifier(n_neighbors=5, metric='minkowski', p=2)\n",
    "    classifier.fit(X_train, y_train)\n",
    "    classifier, Accuracy, report, cm = cm_prediction(classifier, X_test)\n",
    "    return classifier, Accuracy, report, cm\n",
    "\n",
    "#Decision Tree function\n",
    "def Decision(X_train, y_train, X_test):\n",
    "    from sklearn.tree import DecisionTreeClassifier\n",
    "    classifier = DecisionTreeClassifier(criterion='entropy', random_state=0)\n",
    "    classifier.fit(X_train, y_train)\n",
    "    classifier, Accuracy, report, cm = cm_prediction(classifier, X_test)\n",
    "    return classifier, Accuracy, report, cm\n",
    "\n",
    "#Random Forest Function\n",
    "def random(X_train, y_train, X_test):\n",
    "    from sklearn.ensemble import RandomForestClassifier\n",
    "    classifier = RandomForestClassifier(n_estimators=10, criterion='entropy', random_state=0)\n",
    "    classifier.fit(X_train, y_train)\n",
    "    classifier, Accuracy, report, cm = cm_prediction(classifier, X_test)\n",
    "    return classifier, Accuracy, report, cm\n",
    "\n",
    "#Predict & confusion matrix\n",
    "def cm_prediction(classifier, X_test):\n",
    "    y_pred = classifier.predict(X_test)\n",
    "    from sklearn.metrics import confusion_matrix\n",
    "    cm = confusion_matrix(y_test, y_pred)\n",
    "    from sklearn.metrics import accuracy_score\n",
    "    from sklearn.metrics import classification_report\n",
    "    Accuracy = accuracy_score(y_test, y_pred)\n",
    "    report = classification_report(y_test, y_pred)\n",
    "    return classifier, Accuracy, report,cm\n",
    "\n",
    "#creating dataframe to view the accuracy og each ML model \n",
    "def kernelPCA_Classification(acclog, accsvml, accsvmnl, accknn, accnav, accdes, accrf):\n",
    "    dataframe = pd.DataFrame(index=['n=6'], columns=['Logistic', 'SVML', 'SVMNL', 'KNN', 'Navie', 'Decision', 'Random'])\n",
    "    for number, idex in enumerate(dataframe.index):\n",
    "        dataframe['Logistic'][idex] = acclog[number]\n",
    "        dataframe['SVML'][idex] = accsvml[number]\n",
    "        dataframe['SVMNL'][idex] = accsvmnl[number]\n",
    "        dataframe['KNN'][idex] = accknn[number]\n",
    "        dataframe['Navie'][idex] = accnav[number]\n",
    "        dataframe['Decision'][idex] = accdes[number]\n",
    "        dataframe['Random'][idex] = accrf[number]\n",
    "    return dataframe    "
   ]
  },
  {
   "cell_type": "code",
   "execution_count": 24,
   "id": "0c5d0f2c-8d81-432d-99e7-bd8381060a34",
   "metadata": {},
   "outputs": [],
   "source": [
    "# Load dataset\n",
    "dataset1 = pd.read_csv(\"prep.csv\", index_col=None)\n",
    "df2 = pd.get_dummies(dataset1, drop_first=True)\n",
    "indep_X = df2.drop('classification_yes', axis=1)\n",
    "dep_Y = df2['classification_yes']\n"
   ]
  },
  {
   "cell_type": "code",
   "execution_count": 35,
   "id": "2d6bfcf9-c6cb-4714-a37d-753500fecdd7",
   "metadata": {},
   "outputs": [],
   "source": [
    "#Apply PCA\n",
    "kpca, X_train_kpca= kernel_PCA(indep_X, 6)\n",
    "\n",
    "# Initialize lists to store accuracies\n",
    "acclog = []\n",
    "accsvml = []\n",
    "accsvmnl = []\n",
    "accknn = []\n",
    "accnav = []\n",
    "accdes = []\n",
    "accrf = []\n"
   ]
  },
  {
   "cell_type": "code",
   "execution_count": 36,
   "id": "35642f49-e29d-482a-acaa-2b82c912bf61",
   "metadata": {},
   "outputs": [],
   "source": [
    "#Apply splitting\n",
    "X_train, X_test, y_train, y_test = split_scalar(X_train_kpca,dep_Y)"
   ]
  },
  {
   "cell_type": "code",
   "execution_count": 37,
   "id": "e49df346-d2e9-46b1-82a5-5d1337186d11",
   "metadata": {},
   "outputs": [
    {
     "name": "stderr",
     "output_type": "stream",
     "text": [
      "C:\\Users\\Admin\\Anaconda3\\envs\\MLDL\\Lib\\site-packages\\sklearn\\metrics\\_classification.py:1497: UndefinedMetricWarning: Precision is ill-defined and being set to 0.0 in labels with no predicted samples. Use `zero_division` parameter to control this behavior.\n",
      "  _warn_prf(average, modifier, f\"{metric.capitalize()} is\", len(result))\n",
      "C:\\Users\\Admin\\Anaconda3\\envs\\MLDL\\Lib\\site-packages\\sklearn\\metrics\\_classification.py:1497: UndefinedMetricWarning: Precision is ill-defined and being set to 0.0 in labels with no predicted samples. Use `zero_division` parameter to control this behavior.\n",
      "  _warn_prf(average, modifier, f\"{metric.capitalize()} is\", len(result))\n",
      "C:\\Users\\Admin\\Anaconda3\\envs\\MLDL\\Lib\\site-packages\\sklearn\\metrics\\_classification.py:1497: UndefinedMetricWarning: Precision is ill-defined and being set to 0.0 in labels with no predicted samples. Use `zero_division` parameter to control this behavior.\n",
      "  _warn_prf(average, modifier, f\"{metric.capitalize()} is\", len(result))\n",
      "C:\\Users\\Admin\\Anaconda3\\envs\\MLDL\\Lib\\site-packages\\sklearn\\metrics\\_classification.py:1497: UndefinedMetricWarning: Precision is ill-defined and being set to 0.0 in labels with no predicted samples. Use `zero_division` parameter to control this behavior.\n",
      "  _warn_prf(average, modifier, f\"{metric.capitalize()} is\", len(result))\n",
      "C:\\Users\\Admin\\Anaconda3\\envs\\MLDL\\Lib\\site-packages\\sklearn\\metrics\\_classification.py:1497: UndefinedMetricWarning: Precision is ill-defined and being set to 0.0 in labels with no predicted samples. Use `zero_division` parameter to control this behavior.\n",
      "  _warn_prf(average, modifier, f\"{metric.capitalize()} is\", len(result))\n",
      "C:\\Users\\Admin\\Anaconda3\\envs\\MLDL\\Lib\\site-packages\\sklearn\\metrics\\_classification.py:1497: UndefinedMetricWarning: Precision is ill-defined and being set to 0.0 in labels with no predicted samples. Use `zero_division` parameter to control this behavior.\n",
      "  _warn_prf(average, modifier, f\"{metric.capitalize()} is\", len(result))\n",
      "C:\\Users\\Admin\\Anaconda3\\envs\\MLDL\\Lib\\site-packages\\sklearn\\metrics\\_classification.py:1497: UndefinedMetricWarning: Precision is ill-defined and being set to 0.0 in labels with no predicted samples. Use `zero_division` parameter to control this behavior.\n",
      "  _warn_prf(average, modifier, f\"{metric.capitalize()} is\", len(result))\n",
      "C:\\Users\\Admin\\Anaconda3\\envs\\MLDL\\Lib\\site-packages\\sklearn\\metrics\\_classification.py:1497: UndefinedMetricWarning: Precision is ill-defined and being set to 0.0 in labels with no predicted samples. Use `zero_division` parameter to control this behavior.\n",
      "  _warn_prf(average, modifier, f\"{metric.capitalize()} is\", len(result))\n",
      "C:\\Users\\Admin\\Anaconda3\\envs\\MLDL\\Lib\\site-packages\\sklearn\\metrics\\_classification.py:1497: UndefinedMetricWarning: Precision is ill-defined and being set to 0.0 in labels with no predicted samples. Use `zero_division` parameter to control this behavior.\n",
      "  _warn_prf(average, modifier, f\"{metric.capitalize()} is\", len(result))\n",
      "C:\\Users\\Admin\\AppData\\Local\\Temp\\ipykernel_10044\\2555486386.py:86: FutureWarning: ChainedAssignmentError: behaviour will change in pandas 3.0!\n",
      "You are setting values through chained assignment. Currently this works in certain cases, but when using Copy-on-Write (which will become the default behaviour in pandas 3.0) this will never work to update the original DataFrame or Series, because the intermediate object on which we are setting values will behave as a copy.\n",
      "A typical example is when you are setting values in a column of a DataFrame, like:\n",
      "\n",
      "df[\"col\"][row_indexer] = value\n",
      "\n",
      "Use `df.loc[row_indexer, \"col\"] = values` instead, to perform the assignment in a single step and ensure this keeps updating the original `df`.\n",
      "\n",
      "See the caveats in the documentation: https://pandas.pydata.org/pandas-docs/stable/user_guide/indexing.html#returning-a-view-versus-a-copy\n",
      "\n",
      "  dataframe['Logistic'][idex] = acclog[number]\n",
      "C:\\Users\\Admin\\AppData\\Local\\Temp\\ipykernel_10044\\2555486386.py:87: FutureWarning: ChainedAssignmentError: behaviour will change in pandas 3.0!\n",
      "You are setting values through chained assignment. Currently this works in certain cases, but when using Copy-on-Write (which will become the default behaviour in pandas 3.0) this will never work to update the original DataFrame or Series, because the intermediate object on which we are setting values will behave as a copy.\n",
      "A typical example is when you are setting values in a column of a DataFrame, like:\n",
      "\n",
      "df[\"col\"][row_indexer] = value\n",
      "\n",
      "Use `df.loc[row_indexer, \"col\"] = values` instead, to perform the assignment in a single step and ensure this keeps updating the original `df`.\n",
      "\n",
      "See the caveats in the documentation: https://pandas.pydata.org/pandas-docs/stable/user_guide/indexing.html#returning-a-view-versus-a-copy\n",
      "\n",
      "  dataframe['SVML'][idex] = accsvml[number]\n",
      "C:\\Users\\Admin\\AppData\\Local\\Temp\\ipykernel_10044\\2555486386.py:88: FutureWarning: ChainedAssignmentError: behaviour will change in pandas 3.0!\n",
      "You are setting values through chained assignment. Currently this works in certain cases, but when using Copy-on-Write (which will become the default behaviour in pandas 3.0) this will never work to update the original DataFrame or Series, because the intermediate object on which we are setting values will behave as a copy.\n",
      "A typical example is when you are setting values in a column of a DataFrame, like:\n",
      "\n",
      "df[\"col\"][row_indexer] = value\n",
      "\n",
      "Use `df.loc[row_indexer, \"col\"] = values` instead, to perform the assignment in a single step and ensure this keeps updating the original `df`.\n",
      "\n",
      "See the caveats in the documentation: https://pandas.pydata.org/pandas-docs/stable/user_guide/indexing.html#returning-a-view-versus-a-copy\n",
      "\n",
      "  dataframe['SVMNL'][idex] = accsvmnl[number]\n",
      "C:\\Users\\Admin\\AppData\\Local\\Temp\\ipykernel_10044\\2555486386.py:89: FutureWarning: ChainedAssignmentError: behaviour will change in pandas 3.0!\n",
      "You are setting values through chained assignment. Currently this works in certain cases, but when using Copy-on-Write (which will become the default behaviour in pandas 3.0) this will never work to update the original DataFrame or Series, because the intermediate object on which we are setting values will behave as a copy.\n",
      "A typical example is when you are setting values in a column of a DataFrame, like:\n",
      "\n",
      "df[\"col\"][row_indexer] = value\n",
      "\n",
      "Use `df.loc[row_indexer, \"col\"] = values` instead, to perform the assignment in a single step and ensure this keeps updating the original `df`.\n",
      "\n",
      "See the caveats in the documentation: https://pandas.pydata.org/pandas-docs/stable/user_guide/indexing.html#returning-a-view-versus-a-copy\n",
      "\n",
      "  dataframe['KNN'][idex] = accknn[number]\n",
      "C:\\Users\\Admin\\AppData\\Local\\Temp\\ipykernel_10044\\2555486386.py:90: FutureWarning: ChainedAssignmentError: behaviour will change in pandas 3.0!\n",
      "You are setting values through chained assignment. Currently this works in certain cases, but when using Copy-on-Write (which will become the default behaviour in pandas 3.0) this will never work to update the original DataFrame or Series, because the intermediate object on which we are setting values will behave as a copy.\n",
      "A typical example is when you are setting values in a column of a DataFrame, like:\n",
      "\n",
      "df[\"col\"][row_indexer] = value\n",
      "\n",
      "Use `df.loc[row_indexer, \"col\"] = values` instead, to perform the assignment in a single step and ensure this keeps updating the original `df`.\n",
      "\n",
      "See the caveats in the documentation: https://pandas.pydata.org/pandas-docs/stable/user_guide/indexing.html#returning-a-view-versus-a-copy\n",
      "\n",
      "  dataframe['Navie'][idex] = accnav[number]\n",
      "C:\\Users\\Admin\\AppData\\Local\\Temp\\ipykernel_10044\\2555486386.py:91: FutureWarning: ChainedAssignmentError: behaviour will change in pandas 3.0!\n",
      "You are setting values through chained assignment. Currently this works in certain cases, but when using Copy-on-Write (which will become the default behaviour in pandas 3.0) this will never work to update the original DataFrame or Series, because the intermediate object on which we are setting values will behave as a copy.\n",
      "A typical example is when you are setting values in a column of a DataFrame, like:\n",
      "\n",
      "df[\"col\"][row_indexer] = value\n",
      "\n",
      "Use `df.loc[row_indexer, \"col\"] = values` instead, to perform the assignment in a single step and ensure this keeps updating the original `df`.\n",
      "\n",
      "See the caveats in the documentation: https://pandas.pydata.org/pandas-docs/stable/user_guide/indexing.html#returning-a-view-versus-a-copy\n",
      "\n",
      "  dataframe['Decision'][idex] = accdes[number]\n",
      "C:\\Users\\Admin\\AppData\\Local\\Temp\\ipykernel_10044\\2555486386.py:92: FutureWarning: ChainedAssignmentError: behaviour will change in pandas 3.0!\n",
      "You are setting values through chained assignment. Currently this works in certain cases, but when using Copy-on-Write (which will become the default behaviour in pandas 3.0) this will never work to update the original DataFrame or Series, because the intermediate object on which we are setting values will behave as a copy.\n",
      "A typical example is when you are setting values in a column of a DataFrame, like:\n",
      "\n",
      "df[\"col\"][row_indexer] = value\n",
      "\n",
      "Use `df.loc[row_indexer, \"col\"] = values` instead, to perform the assignment in a single step and ensure this keeps updating the original `df`.\n",
      "\n",
      "See the caveats in the documentation: https://pandas.pydata.org/pandas-docs/stable/user_guide/indexing.html#returning-a-view-versus-a-copy\n",
      "\n",
      "  dataframe['Random'][idex] = accrf[number]\n"
     ]
    }
   ],
   "source": [
    "# Apply classifiers\n",
    "classifier, Accuracy, report, cm = logistic(X_train, y_train, X_test)\n",
    "acclog.append(Accuracy)\n",
    "\n",
    "classifier, Accuracy, report, cm = svm_linear(X_train, y_train, X_test)  \n",
    "accsvml.append(Accuracy)\n",
    "    \n",
    "classifier, Accuracy, report, cm = svm_NL(X_train, y_train, X_test)  \n",
    "accsvmnl.append(Accuracy)\n",
    "    \n",
    "classifier, Accuracy, report, cm = knn(X_train, y_train, X_test)  \n",
    "accknn.append(Accuracy)\n",
    "    \n",
    "classifier, Accuracy, report, cm = Navie(X_train, y_train, X_test)  \n",
    "accnav.append(Accuracy)\n",
    "    \n",
    "classifier, Accuracy, report, cm = Decision(X_train, y_train, X_test)  \n",
    "accdes.append(Accuracy)\n",
    "    \n",
    "classifier, Accuracy, report, cm = random(X_train, y_train, X_test)  \n",
    "accrf.append(Accuracy)\n",
    "    \n",
    "result = kernelPCA_Classification(acclog, accsvml, accsvmnl, accknn, accnav, accdes, accrf)\n"
   ]
  },
  {
   "cell_type": "markdown",
   "id": "62f0bf7d-d768-417f-ab31-ca741d2083cb",
   "metadata": {},
   "source": [
    "#**N=2**"
   ]
  },
  {
   "cell_type": "code",
   "execution_count": 7,
   "id": "0bf90376-c88a-4f2c-adbb-3f8ad9687325",
   "metadata": {},
   "outputs": [
    {
     "data": {
      "text/html": [
       "<div>\n",
       "<style scoped>\n",
       "    .dataframe tbody tr th:only-of-type {\n",
       "        vertical-align: middle;\n",
       "    }\n",
       "\n",
       "    .dataframe tbody tr th {\n",
       "        vertical-align: top;\n",
       "    }\n",
       "\n",
       "    .dataframe thead th {\n",
       "        text-align: right;\n",
       "    }\n",
       "</style>\n",
       "<table border=\"1\" class=\"dataframe\">\n",
       "  <thead>\n",
       "    <tr style=\"text-align: right;\">\n",
       "      <th></th>\n",
       "      <th>Logistic</th>\n",
       "      <th>SVML</th>\n",
       "      <th>SVMNL</th>\n",
       "      <th>KNN</th>\n",
       "      <th>Navie</th>\n",
       "      <th>Decision</th>\n",
       "      <th>Random</th>\n",
       "    </tr>\n",
       "  </thead>\n",
       "  <tbody>\n",
       "    <tr>\n",
       "      <th>n=2</th>\n",
       "      <td>0.64</td>\n",
       "      <td>0.64</td>\n",
       "      <td>0.64</td>\n",
       "      <td>0.54</td>\n",
       "      <td>0.39</td>\n",
       "      <td>0.7</td>\n",
       "      <td>0.69</td>\n",
       "    </tr>\n",
       "  </tbody>\n",
       "</table>\n",
       "</div>"
      ],
      "text/plain": [
       "    Logistic  SVML SVMNL   KNN Navie Decision Random\n",
       "n=2     0.64  0.64  0.64  0.54  0.39      0.7   0.69"
      ]
     },
     "execution_count": 7,
     "metadata": {},
     "output_type": "execute_result"
    }
   ],
   "source": [
    "result"
   ]
  },
  {
   "cell_type": "markdown",
   "id": "370bcb92-f7af-413e-970b-204bb59f5633",
   "metadata": {},
   "source": [
    "#**N=1**"
   ]
  },
  {
   "cell_type": "code",
   "execution_count": 14,
   "id": "6e5160fc-77e5-4068-a992-cf7cf0d6fb49",
   "metadata": {},
   "outputs": [
    {
     "data": {
      "text/html": [
       "<div>\n",
       "<style scoped>\n",
       "    .dataframe tbody tr th:only-of-type {\n",
       "        vertical-align: middle;\n",
       "    }\n",
       "\n",
       "    .dataframe tbody tr th {\n",
       "        vertical-align: top;\n",
       "    }\n",
       "\n",
       "    .dataframe thead th {\n",
       "        text-align: right;\n",
       "    }\n",
       "</style>\n",
       "<table border=\"1\" class=\"dataframe\">\n",
       "  <thead>\n",
       "    <tr style=\"text-align: right;\">\n",
       "      <th></th>\n",
       "      <th>Logistic</th>\n",
       "      <th>SVML</th>\n",
       "      <th>SVMNL</th>\n",
       "      <th>KNN</th>\n",
       "      <th>Navie</th>\n",
       "      <th>Decision</th>\n",
       "      <th>Random</th>\n",
       "    </tr>\n",
       "  </thead>\n",
       "  <tbody>\n",
       "    <tr>\n",
       "      <th>n=1</th>\n",
       "      <td>0.64</td>\n",
       "      <td>0.64</td>\n",
       "      <td>0.64</td>\n",
       "      <td>0.59</td>\n",
       "      <td>0.38</td>\n",
       "      <td>0.69</td>\n",
       "      <td>0.69</td>\n",
       "    </tr>\n",
       "  </tbody>\n",
       "</table>\n",
       "</div>"
      ],
      "text/plain": [
       "    Logistic  SVML SVMNL   KNN Navie Decision Random\n",
       "n=1     0.64  0.64  0.64  0.59  0.38     0.69   0.69"
      ]
     },
     "execution_count": 14,
     "metadata": {},
     "output_type": "execute_result"
    }
   ],
   "source": [
    "result"
   ]
  },
  {
   "cell_type": "markdown",
   "id": "2b5b45a8-5015-415f-9da9-04facdf122c6",
   "metadata": {},
   "source": [
    "#**N=3**"
   ]
  },
  {
   "cell_type": "code",
   "execution_count": 21,
   "id": "5aa3e86b-644f-48c0-8eee-13a423c2fa85",
   "metadata": {},
   "outputs": [
    {
     "data": {
      "text/html": [
       "<div>\n",
       "<style scoped>\n",
       "    .dataframe tbody tr th:only-of-type {\n",
       "        vertical-align: middle;\n",
       "    }\n",
       "\n",
       "    .dataframe tbody tr th {\n",
       "        vertical-align: top;\n",
       "    }\n",
       "\n",
       "    .dataframe thead th {\n",
       "        text-align: right;\n",
       "    }\n",
       "</style>\n",
       "<table border=\"1\" class=\"dataframe\">\n",
       "  <thead>\n",
       "    <tr style=\"text-align: right;\">\n",
       "      <th></th>\n",
       "      <th>Logistic</th>\n",
       "      <th>SVML</th>\n",
       "      <th>SVMNL</th>\n",
       "      <th>KNN</th>\n",
       "      <th>Navie</th>\n",
       "      <th>Decision</th>\n",
       "      <th>Random</th>\n",
       "    </tr>\n",
       "  </thead>\n",
       "  <tbody>\n",
       "    <tr>\n",
       "      <th>n=3</th>\n",
       "      <td>0.64</td>\n",
       "      <td>0.64</td>\n",
       "      <td>0.64</td>\n",
       "      <td>0.55</td>\n",
       "      <td>0.39</td>\n",
       "      <td>0.68</td>\n",
       "      <td>0.68</td>\n",
       "    </tr>\n",
       "  </tbody>\n",
       "</table>\n",
       "</div>"
      ],
      "text/plain": [
       "    Logistic  SVML SVMNL   KNN Navie Decision Random\n",
       "n=3     0.64  0.64  0.64  0.55  0.39     0.68   0.68"
      ]
     },
     "execution_count": 21,
     "metadata": {},
     "output_type": "execute_result"
    }
   ],
   "source": [
    "result"
   ]
  },
  {
   "cell_type": "markdown",
   "id": "681ccde1-00f6-4ca4-af3c-c390d597bbd7",
   "metadata": {},
   "source": [
    "#**N=4**"
   ]
  },
  {
   "cell_type": "code",
   "execution_count": 28,
   "id": "db5cb924-9f1a-41e2-aba9-296df500ab53",
   "metadata": {},
   "outputs": [
    {
     "data": {
      "text/html": [
       "<div>\n",
       "<style scoped>\n",
       "    .dataframe tbody tr th:only-of-type {\n",
       "        vertical-align: middle;\n",
       "    }\n",
       "\n",
       "    .dataframe tbody tr th {\n",
       "        vertical-align: top;\n",
       "    }\n",
       "\n",
       "    .dataframe thead th {\n",
       "        text-align: right;\n",
       "    }\n",
       "</style>\n",
       "<table border=\"1\" class=\"dataframe\">\n",
       "  <thead>\n",
       "    <tr style=\"text-align: right;\">\n",
       "      <th></th>\n",
       "      <th>Logistic</th>\n",
       "      <th>SVML</th>\n",
       "      <th>SVMNL</th>\n",
       "      <th>KNN</th>\n",
       "      <th>Navie</th>\n",
       "      <th>Decision</th>\n",
       "      <th>Random</th>\n",
       "    </tr>\n",
       "  </thead>\n",
       "  <tbody>\n",
       "    <tr>\n",
       "      <th>n=4</th>\n",
       "      <td>0.64</td>\n",
       "      <td>0.64</td>\n",
       "      <td>0.64</td>\n",
       "      <td>0.51</td>\n",
       "      <td>0.39</td>\n",
       "      <td>0.68</td>\n",
       "      <td>0.67</td>\n",
       "    </tr>\n",
       "  </tbody>\n",
       "</table>\n",
       "</div>"
      ],
      "text/plain": [
       "    Logistic  SVML SVMNL   KNN Navie Decision Random\n",
       "n=4     0.64  0.64  0.64  0.51  0.39     0.68   0.67"
      ]
     },
     "execution_count": 28,
     "metadata": {},
     "output_type": "execute_result"
    }
   ],
   "source": [
    "result"
   ]
  },
  {
   "cell_type": "markdown",
   "id": "71638262-10e1-44fe-8ebf-3ad8b828ef94",
   "metadata": {},
   "source": [
    "#**N=5**"
   ]
  },
  {
   "cell_type": "code",
   "execution_count": 33,
   "id": "27620154-1fe2-4a6a-a33b-e8c3ae063a3f",
   "metadata": {},
   "outputs": [
    {
     "data": {
      "text/html": [
       "<div>\n",
       "<style scoped>\n",
       "    .dataframe tbody tr th:only-of-type {\n",
       "        vertical-align: middle;\n",
       "    }\n",
       "\n",
       "    .dataframe tbody tr th {\n",
       "        vertical-align: top;\n",
       "    }\n",
       "\n",
       "    .dataframe thead th {\n",
       "        text-align: right;\n",
       "    }\n",
       "</style>\n",
       "<table border=\"1\" class=\"dataframe\">\n",
       "  <thead>\n",
       "    <tr style=\"text-align: right;\">\n",
       "      <th></th>\n",
       "      <th>Logistic</th>\n",
       "      <th>SVML</th>\n",
       "      <th>SVMNL</th>\n",
       "      <th>KNN</th>\n",
       "      <th>Navie</th>\n",
       "      <th>Decision</th>\n",
       "      <th>Random</th>\n",
       "    </tr>\n",
       "  </thead>\n",
       "  <tbody>\n",
       "    <tr>\n",
       "      <th>n=5</th>\n",
       "      <td>0.64</td>\n",
       "      <td>0.64</td>\n",
       "      <td>0.64</td>\n",
       "      <td>0.55</td>\n",
       "      <td>0.39</td>\n",
       "      <td>0.68</td>\n",
       "      <td>0.65</td>\n",
       "    </tr>\n",
       "  </tbody>\n",
       "</table>\n",
       "</div>"
      ],
      "text/plain": [
       "    Logistic  SVML SVMNL   KNN Navie Decision Random\n",
       "n=5     0.64  0.64  0.64  0.55  0.39     0.68   0.65"
      ]
     },
     "execution_count": 33,
     "metadata": {},
     "output_type": "execute_result"
    }
   ],
   "source": [
    "result"
   ]
  },
  {
   "cell_type": "markdown",
   "id": "4d542384-6aac-432e-9159-9d13b64b447c",
   "metadata": {},
   "source": [
    "#**N=6**"
   ]
  },
  {
   "cell_type": "code",
   "execution_count": 38,
   "id": "fb883a02-447d-42c2-a1cb-ca826019f205",
   "metadata": {},
   "outputs": [
    {
     "data": {
      "text/html": [
       "<div>\n",
       "<style scoped>\n",
       "    .dataframe tbody tr th:only-of-type {\n",
       "        vertical-align: middle;\n",
       "    }\n",
       "\n",
       "    .dataframe tbody tr th {\n",
       "        vertical-align: top;\n",
       "    }\n",
       "\n",
       "    .dataframe thead th {\n",
       "        text-align: right;\n",
       "    }\n",
       "</style>\n",
       "<table border=\"1\" class=\"dataframe\">\n",
       "  <thead>\n",
       "    <tr style=\"text-align: right;\">\n",
       "      <th></th>\n",
       "      <th>Logistic</th>\n",
       "      <th>SVML</th>\n",
       "      <th>SVMNL</th>\n",
       "      <th>KNN</th>\n",
       "      <th>Navie</th>\n",
       "      <th>Decision</th>\n",
       "      <th>Random</th>\n",
       "    </tr>\n",
       "  </thead>\n",
       "  <tbody>\n",
       "    <tr>\n",
       "      <th>n=6</th>\n",
       "      <td>0.64</td>\n",
       "      <td>0.64</td>\n",
       "      <td>0.64</td>\n",
       "      <td>0.58</td>\n",
       "      <td>0.39</td>\n",
       "      <td>0.69</td>\n",
       "      <td>0.68</td>\n",
       "    </tr>\n",
       "  </tbody>\n",
       "</table>\n",
       "</div>"
      ],
      "text/plain": [
       "    Logistic  SVML SVMNL   KNN Navie Decision Random\n",
       "n=6     0.64  0.64  0.64  0.58  0.39     0.69   0.68"
      ]
     },
     "execution_count": 38,
     "metadata": {},
     "output_type": "execute_result"
    }
   ],
   "source": [
    "result"
   ]
  },
  {
   "cell_type": "code",
   "execution_count": null,
   "id": "01d3305b-689c-4cab-93c6-47e26d0a567e",
   "metadata": {},
   "outputs": [],
   "source": []
  }
 ],
 "metadata": {
  "kernelspec": {
   "display_name": "Python 3 (ipykernel)",
   "language": "python",
   "name": "python3"
  },
  "language_info": {
   "codemirror_mode": {
    "name": "ipython",
    "version": 3
   },
   "file_extension": ".py",
   "mimetype": "text/x-python",
   "name": "python",
   "nbconvert_exporter": "python",
   "pygments_lexer": "ipython3",
   "version": "3.11.7"
  }
 },
 "nbformat": 4,
 "nbformat_minor": 5
}
